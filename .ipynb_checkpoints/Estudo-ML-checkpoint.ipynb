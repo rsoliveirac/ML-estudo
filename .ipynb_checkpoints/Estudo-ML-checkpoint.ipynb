{
 "cells": [
  {
   "cell_type": "markdown",
   "id": "considered-filing",
   "metadata": {},
   "source": [
    " # <font color = \"red\"> Estudo Machine Learning </font>"
   ]
  },
  {
   "cell_type": "markdown",
   "id": "fantastic-mapping",
   "metadata": {
    "heading_collapsed": true
   },
   "source": [
    "# Importando Bibliotecas"
   ]
  },
  {
   "cell_type": "code",
   "execution_count": 1,
   "id": "lucky-shame",
   "metadata": {
    "hidden": true
   },
   "outputs": [
    {
     "name": "stderr",
     "output_type": "stream",
     "text": [
      "/home/user/.pyenv/versions/3.8.0/lib/python3.8/site-packages/pandas/compat/__init__.py:97: UserWarning: Could not import the lzma module. Your installed Python is incomplete. Attempting to use lzma compression will result in a RuntimeError.\n",
      "  warnings.warn(msg)\n"
     ]
    }
   ],
   "source": [
    "import pandas as pd\n",
    "import numpy as np\n",
    "from sklearn import linear_model as lm\n",
    "from sklearn import model_selection as ms\n",
    "from sklearn import metrics as m\n",
    "from matplotlib import pyplot as plt"
   ]
  },
  {
   "cell_type": "markdown",
   "id": "polish-correspondence",
   "metadata": {
    "heading_collapsed": true
   },
   "source": [
    "# Importando dataset"
   ]
  },
  {
   "cell_type": "code",
   "execution_count": 2,
   "id": "chinese-folder",
   "metadata": {
    "hidden": true
   },
   "outputs": [],
   "source": [
    "df = pd.read_csv(\"kc_house_data.csv\")"
   ]
  },
  {
   "cell_type": "code",
   "execution_count": 3,
   "id": "massive-electric",
   "metadata": {
    "hidden": true
   },
   "outputs": [
    {
     "data": {
      "text/html": [
       "<div>\n",
       "<style scoped>\n",
       "    .dataframe tbody tr th:only-of-type {\n",
       "        vertical-align: middle;\n",
       "    }\n",
       "\n",
       "    .dataframe tbody tr th {\n",
       "        vertical-align: top;\n",
       "    }\n",
       "\n",
       "    .dataframe thead th {\n",
       "        text-align: right;\n",
       "    }\n",
       "</style>\n",
       "<table border=\"1\" class=\"dataframe\">\n",
       "  <thead>\n",
       "    <tr style=\"text-align: right;\">\n",
       "      <th></th>\n",
       "      <th>id</th>\n",
       "      <th>date</th>\n",
       "      <th>price</th>\n",
       "      <th>bedrooms</th>\n",
       "      <th>bathrooms</th>\n",
       "      <th>sqft_living</th>\n",
       "      <th>sqft_lot</th>\n",
       "      <th>floors</th>\n",
       "      <th>waterfront</th>\n",
       "      <th>view</th>\n",
       "      <th>...</th>\n",
       "      <th>grade</th>\n",
       "      <th>sqft_above</th>\n",
       "      <th>sqft_basement</th>\n",
       "      <th>yr_built</th>\n",
       "      <th>yr_renovated</th>\n",
       "      <th>zipcode</th>\n",
       "      <th>lat</th>\n",
       "      <th>long</th>\n",
       "      <th>sqft_living15</th>\n",
       "      <th>sqft_lot15</th>\n",
       "    </tr>\n",
       "  </thead>\n",
       "  <tbody>\n",
       "    <tr>\n",
       "      <th>0</th>\n",
       "      <td>7129300520</td>\n",
       "      <td>20141013T000000</td>\n",
       "      <td>221900.0</td>\n",
       "      <td>3</td>\n",
       "      <td>1.00</td>\n",
       "      <td>1180</td>\n",
       "      <td>5650</td>\n",
       "      <td>1.0</td>\n",
       "      <td>0</td>\n",
       "      <td>0</td>\n",
       "      <td>...</td>\n",
       "      <td>7</td>\n",
       "      <td>1180</td>\n",
       "      <td>0</td>\n",
       "      <td>1955</td>\n",
       "      <td>0</td>\n",
       "      <td>98178</td>\n",
       "      <td>47.5112</td>\n",
       "      <td>-122.257</td>\n",
       "      <td>1340</td>\n",
       "      <td>5650</td>\n",
       "    </tr>\n",
       "    <tr>\n",
       "      <th>1</th>\n",
       "      <td>6414100192</td>\n",
       "      <td>20141209T000000</td>\n",
       "      <td>538000.0</td>\n",
       "      <td>3</td>\n",
       "      <td>2.25</td>\n",
       "      <td>2570</td>\n",
       "      <td>7242</td>\n",
       "      <td>2.0</td>\n",
       "      <td>0</td>\n",
       "      <td>0</td>\n",
       "      <td>...</td>\n",
       "      <td>7</td>\n",
       "      <td>2170</td>\n",
       "      <td>400</td>\n",
       "      <td>1951</td>\n",
       "      <td>1991</td>\n",
       "      <td>98125</td>\n",
       "      <td>47.7210</td>\n",
       "      <td>-122.319</td>\n",
       "      <td>1690</td>\n",
       "      <td>7639</td>\n",
       "    </tr>\n",
       "    <tr>\n",
       "      <th>2</th>\n",
       "      <td>5631500400</td>\n",
       "      <td>20150225T000000</td>\n",
       "      <td>180000.0</td>\n",
       "      <td>2</td>\n",
       "      <td>1.00</td>\n",
       "      <td>770</td>\n",
       "      <td>10000</td>\n",
       "      <td>1.0</td>\n",
       "      <td>0</td>\n",
       "      <td>0</td>\n",
       "      <td>...</td>\n",
       "      <td>6</td>\n",
       "      <td>770</td>\n",
       "      <td>0</td>\n",
       "      <td>1933</td>\n",
       "      <td>0</td>\n",
       "      <td>98028</td>\n",
       "      <td>47.7379</td>\n",
       "      <td>-122.233</td>\n",
       "      <td>2720</td>\n",
       "      <td>8062</td>\n",
       "    </tr>\n",
       "    <tr>\n",
       "      <th>3</th>\n",
       "      <td>2487200875</td>\n",
       "      <td>20141209T000000</td>\n",
       "      <td>604000.0</td>\n",
       "      <td>4</td>\n",
       "      <td>3.00</td>\n",
       "      <td>1960</td>\n",
       "      <td>5000</td>\n",
       "      <td>1.0</td>\n",
       "      <td>0</td>\n",
       "      <td>0</td>\n",
       "      <td>...</td>\n",
       "      <td>7</td>\n",
       "      <td>1050</td>\n",
       "      <td>910</td>\n",
       "      <td>1965</td>\n",
       "      <td>0</td>\n",
       "      <td>98136</td>\n",
       "      <td>47.5208</td>\n",
       "      <td>-122.393</td>\n",
       "      <td>1360</td>\n",
       "      <td>5000</td>\n",
       "    </tr>\n",
       "    <tr>\n",
       "      <th>4</th>\n",
       "      <td>1954400510</td>\n",
       "      <td>20150218T000000</td>\n",
       "      <td>510000.0</td>\n",
       "      <td>3</td>\n",
       "      <td>2.00</td>\n",
       "      <td>1680</td>\n",
       "      <td>8080</td>\n",
       "      <td>1.0</td>\n",
       "      <td>0</td>\n",
       "      <td>0</td>\n",
       "      <td>...</td>\n",
       "      <td>8</td>\n",
       "      <td>1680</td>\n",
       "      <td>0</td>\n",
       "      <td>1987</td>\n",
       "      <td>0</td>\n",
       "      <td>98074</td>\n",
       "      <td>47.6168</td>\n",
       "      <td>-122.045</td>\n",
       "      <td>1800</td>\n",
       "      <td>7503</td>\n",
       "    </tr>\n",
       "  </tbody>\n",
       "</table>\n",
       "<p>5 rows × 21 columns</p>\n",
       "</div>"
      ],
      "text/plain": [
       "           id             date     price  bedrooms  bathrooms  sqft_living  \\\n",
       "0  7129300520  20141013T000000  221900.0         3       1.00         1180   \n",
       "1  6414100192  20141209T000000  538000.0         3       2.25         2570   \n",
       "2  5631500400  20150225T000000  180000.0         2       1.00          770   \n",
       "3  2487200875  20141209T000000  604000.0         4       3.00         1960   \n",
       "4  1954400510  20150218T000000  510000.0         3       2.00         1680   \n",
       "\n",
       "   sqft_lot  floors  waterfront  view  ...  grade  sqft_above  sqft_basement  \\\n",
       "0      5650     1.0           0     0  ...      7        1180              0   \n",
       "1      7242     2.0           0     0  ...      7        2170            400   \n",
       "2     10000     1.0           0     0  ...      6         770              0   \n",
       "3      5000     1.0           0     0  ...      7        1050            910   \n",
       "4      8080     1.0           0     0  ...      8        1680              0   \n",
       "\n",
       "   yr_built  yr_renovated  zipcode      lat     long  sqft_living15  \\\n",
       "0      1955             0    98178  47.5112 -122.257           1340   \n",
       "1      1951          1991    98125  47.7210 -122.319           1690   \n",
       "2      1933             0    98028  47.7379 -122.233           2720   \n",
       "3      1965             0    98136  47.5208 -122.393           1360   \n",
       "4      1987             0    98074  47.6168 -122.045           1800   \n",
       "\n",
       "   sqft_lot15  \n",
       "0        5650  \n",
       "1        7639  \n",
       "2        8062  \n",
       "3        5000  \n",
       "4        7503  \n",
       "\n",
       "[5 rows x 21 columns]"
      ]
     },
     "execution_count": 3,
     "metadata": {},
     "output_type": "execute_result"
    }
   ],
   "source": [
    "df.head()"
   ]
  },
  {
   "cell_type": "markdown",
   "id": "prompt-referral",
   "metadata": {
    "heading_collapsed": true
   },
   "source": [
    "# <font color = \"green\"> CICLO 1:  </font>"
   ]
  },
  {
   "cell_type": "markdown",
   "id": "desirable-gambling",
   "metadata": {
    "hidden": true
   },
   "source": [
    "## Data Preparation"
   ]
  },
  {
   "cell_type": "code",
   "execution_count": null,
   "id": "japanese-webster",
   "metadata": {
    "hidden": true
   },
   "outputs": [],
   "source": [
    "# features\n",
    "x_train = df.drop(['price', 'date'], axis = 1)\n",
    "\n",
    "#variavel resposta\n",
    "y_train = df['price'].copy()"
   ]
  },
  {
   "cell_type": "markdown",
   "id": "scenic-performer",
   "metadata": {
    "hidden": true
   },
   "source": [
    "## Model Training "
   ]
  },
  {
   "cell_type": "code",
   "execution_count": null,
   "id": "complimentary-prior",
   "metadata": {
    "hidden": true
   },
   "outputs": [],
   "source": [
    "#descrição do modelo\n",
    "model_lr = lm.LinearRegression()\n",
    "\n",
    "#treino do modelo\n",
    "model_lr.fit(x_train, y_train)"
   ]
  },
  {
   "cell_type": "code",
   "execution_count": null,
   "id": "vital-methodology",
   "metadata": {
    "hidden": true
   },
   "outputs": [],
   "source": [
    "#predições\n",
    "pred = model_lr.predict(x_train)"
   ]
  },
  {
   "cell_type": "markdown",
   "id": "answering-norwegian",
   "metadata": {
    "hidden": true
   },
   "source": [
    "## Performance do Modelo"
   ]
  },
  {
   "cell_type": "code",
   "execution_count": null,
   "id": "magnetic-picture",
   "metadata": {
    "hidden": true
   },
   "outputs": [],
   "source": [
    "df1 = df.copy()"
   ]
  },
  {
   "cell_type": "code",
   "execution_count": null,
   "id": "french-operator",
   "metadata": {
    "hidden": true
   },
   "outputs": [],
   "source": [
    "df1['prediction'] = pred"
   ]
  },
  {
   "cell_type": "code",
   "execution_count": null,
   "id": "suspected-croatia",
   "metadata": {
    "hidden": true
   },
   "outputs": [],
   "source": [
    "df1['error'] = df1['price'] - df1['prediction'] #calculando o erro do mocelo\n",
    "df1['error_abs'] = np.abs(df1['error']) #calculando o erro absoluto (sem o sinal, pois nao é interessante)\n",
    "\n",
    "\n",
    "mae = np.sum(df1['error_abs']) / len(df1['error_abs']) #calculo da média do erro absoluto\n",
    "print('MAE: {}'.format(mae)) #o erro absoluto é chamado de MAE\n",
    "\n",
    "####################################################################################\n",
    "\n",
    "df1['error_perc'] = ((df1['price'] - df1['prediction']) / df1['price']) #calculo do erro percentual\n",
    "\n",
    "df1['error_perc_abs'] = np.abs(df1['error_perc']) #media do erro percentual\n",
    "\n",
    "mape = np.sum(df1['error_perc_abs']) / len(df1['error_perc_abs']) #média do erro. Em média o modelo erra 25% dos valores originais\n",
    "\n",
    "print('MAPE: {}'.format(mape)) #média do erro percentual é chamado de MAPE\n"
   ]
  },
  {
   "cell_type": "code",
   "execution_count": null,
   "id": "fabulous-group",
   "metadata": {
    "hidden": true
   },
   "outputs": [],
   "source": [
    "df1[['id', 'price', 'prediction', 'error', 'error_abs', 'error_perc', 'error_perc_abs']].head()"
   ]
  },
  {
   "cell_type": "markdown",
   "id": "dramatic-recommendation",
   "metadata": {
    "heading_collapsed": true
   },
   "source": [
    "# <font color = \"green\" > CICLO 2 </font>"
   ]
  },
  {
   "cell_type": "markdown",
   "id": "exact-munich",
   "metadata": {
    "hidden": true
   },
   "source": [
    "## Data preparation"
   ]
  },
  {
   "cell_type": "code",
   "execution_count": 4,
   "id": "pretty-librarian",
   "metadata": {
    "hidden": true
   },
   "outputs": [],
   "source": [
    "df2 = pd.read_csv(\"kc_house_data.csv\") "
   ]
  },
  {
   "cell_type": "code",
   "execution_count": 5,
   "id": "internal-mitchell",
   "metadata": {
    "hidden": true
   },
   "outputs": [],
   "source": [
    "X = df2.drop(['price', 'date'], axis = 1)\n",
    "y = df2['price'].copy()"
   ]
  },
  {
   "cell_type": "code",
   "execution_count": null,
   "id": "filled-clinton",
   "metadata": {
    "hidden": true
   },
   "outputs": [],
   "source": [
    "x_train, x_test ,y_train, y_test  = ms.train_test_split( X, y, test_size = 0.2, random_state = 42)\n",
    "#features, variavel resposta, porcentagem que eu quero no dado de treino e random para separar as mesmas linhas sempre \n"
   ]
  },
  {
   "cell_type": "code",
   "execution_count": null,
   "id": "described-washington",
   "metadata": {
    "hidden": true
   },
   "outputs": [],
   "source": [
    "#model description\n",
    "model_lr2 = lm.LinearRegression()\n",
    "\n",
    "#model traning\n",
    "model_lr2.fit(x_train, y_train)"
   ]
  },
  {
   "cell_type": "code",
   "execution_count": null,
   "id": "opening-portuguese",
   "metadata": {
    "hidden": true
   },
   "outputs": [],
   "source": [
    "#prediction - treining\n",
    "pred_train = model_lr2.predict( x_train)\n",
    "\n",
    "#prediction - treining\n",
    "pred_test = model_lr2.predict( x_test)"
   ]
  },
  {
   "cell_type": "markdown",
   "id": "impressed-carnival",
   "metadata": {
    "hidden": true
   },
   "source": [
    "## Performance Metric"
   ]
  },
  {
   "cell_type": "code",
   "execution_count": null,
   "id": "flexible-harvest",
   "metadata": {
    "hidden": true
   },
   "outputs": [],
   "source": [
    "#Training MAE \n",
    "mae_train = m.mean_absolute_error( y_train, pred_train)\n",
    "mape_train = np.mean(np.abs((y_train - pred_train) / y_train))\n",
    "\n",
    "\n",
    "\n",
    "#Test MAE\n",
    "mae_test = m.mean_absolute_error(y_test, pred_test)\n",
    "mape_test = np.mean(np.abs((y_test - pred_test) / y_test))"
   ]
  },
  {
   "cell_type": "code",
   "execution_count": null,
   "id": "offshore-croatia",
   "metadata": {
    "hidden": true
   },
   "outputs": [],
   "source": [
    "data = {'DataFrame':['training', 'test'],\n",
    "       'MAE': [mae_train, mae_test],\n",
    "        'MAPE': [mape_train, mape_test]}\n",
    "pd.DataFrame(data)"
   ]
  }
 ],
 "metadata": {
  "kernelspec": {
   "display_name": "Python 3",
   "language": "python",
   "name": "python3"
  },
  "language_info": {
   "codemirror_mode": {
    "name": "ipython",
    "version": 3
   },
   "file_extension": ".py",
   "mimetype": "text/x-python",
   "name": "python",
   "nbconvert_exporter": "python",
   "pygments_lexer": "ipython3",
   "version": "3.8.0"
  },
  "varInspector": {
   "cols": {
    "lenName": 16,
    "lenType": 16,
    "lenVar": 40
   },
   "kernels_config": {
    "python": {
     "delete_cmd_postfix": "",
     "delete_cmd_prefix": "del ",
     "library": "var_list.py",
     "varRefreshCmd": "print(var_dic_list())"
    },
    "r": {
     "delete_cmd_postfix": ") ",
     "delete_cmd_prefix": "rm(",
     "library": "var_list.r",
     "varRefreshCmd": "cat(var_dic_list()) "
    }
   },
   "types_to_exclude": [
    "module",
    "function",
    "builtin_function_or_method",
    "instance",
    "_Feature"
   ],
   "window_display": false
  }
 },
 "nbformat": 4,
 "nbformat_minor": 5
}
